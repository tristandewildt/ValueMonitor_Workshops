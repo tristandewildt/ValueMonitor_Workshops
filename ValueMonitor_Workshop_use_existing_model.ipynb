{
  "cells": [
    {
      "cell_type": "markdown",
      "metadata": {
        "id": "8kCwQj64JVIo"
      },
      "source": [
        "# ValueMonitor - Use an existing topic model"
      ]
    },
    {
      "cell_type": "markdown",
      "metadata": {
        "id": "I59vohdJJVIp"
      },
      "source": [
        "This page is a visualisation of the ValueMonitor prototype. In case you would like to use the notebook, click on the icon ‘**Run in Google Colab**’ hereunder:"
      ]
    },
    {
      "cell_type": "markdown",
      "metadata": {
        "id": "h_Y2Ho_bJVIq"
      },
      "source": [
        "<table class=\"tfo-notebook-buttons\" align=\"left\">\n",
        "  <td>\n",
        "    <a target=\"_blank\" href=\"https://colab.research.google.com/github/tristandewildt/ValueMonitor_Prototype/blob/main/ValueMonitor_Prototype_use_existing_model.ipynb\"><img src=\"https://www.tensorflow.org/images/colab_logo_32px.png\" />Run in Google Colab</a>\n",
        "  </td>\n",
        "  <td>\n",
        "    <a target=\"_blank\" href=\"https://github.com/tristandewildt/ValueMonitor_Prototype/blob/main/ValueMonitor_Prototype_use_existing_model.ipynb\"><img src=\"https://www.tensorflow.org/images/GitHub-Mark-32px.png\" />View source on GitHub</a>\n",
        "  </td>\n",
        "</table>"
      ]
    },
    {
      "cell_type": "markdown",
      "metadata": {
        "id": "Uv2E6ns3JVIr"
      },
      "source": [
        "## Table of content:\n",
        "* [1. Import dataset and packages](#import_dataset_and_packages)\n",
        "* [2. Gap assessment](#gap_assessment)\n",
        "* [3. Impact assessment](#impact_assessment)\n",
        "* [4. Values in different realms](#values_in_different_realms)"
      ]
    },
    {
      "cell_type": "markdown",
      "metadata": {
        "id": "v6EQiNeNJVIr"
      },
      "source": [
        "## 1. Import dataset and packages  <a name=\"import_dataset_and_packages\"></a>"
      ]
    },
    {
      "cell_type": "markdown",
      "metadata": {
        "id": "MTUDR4kKJVIs"
      },
      "source": [
        "In this step, the dataset and relavant python packages are imported"
      ]
    },
    {
      "cell_type": "code",
      "execution_count": null,
      "metadata": {
        "colab": {
          "base_uri": "https://localhost:8080/"
        },
        "id": "O2s51uO4Knrd",
        "outputId": "a9d6bbb1-c89f-437d-c6a8-74dc7644c713"
      },
      "outputs": [
        {
          "name": "stdout",
          "output_type": "stream",
          "text": [
            "Requirement already satisfied: corextopic in c:\\anaconda3\\lib\\site-packages (1.1)\n",
            "Requirement already satisfied: joblib in c:\\anaconda3\\lib\\site-packages (1.0.1)\n",
            "Requirement already satisfied: tabulate in c:\\anaconda3\\lib\\site-packages (0.8.9)\n",
            "Requirement already satisfied: simple_colors in c:\\anaconda3\\lib\\site-packages (0.1.5)\n"
          ]
        }
      ],
      "source": [
        "''' Packages'''\n",
        "\n",
        "!pip install corextopic\n",
        "!pip install joblib\n",
        "!pip install tabulate\n",
        "!pip install simple_colors\n",
        "\n",
        "import os, sys, importlib\n",
        "import pandas as pd\n",
        "import ipywidgets as widgets\n",
        "from ipywidgets import interact, interact_manual\n",
        "import pickle\n",
        "\n",
        "''' Source code'''\n",
        "\n",
        "user = \"tristandewildt\"\n",
        "repo = \"ValueMonitor_Prototype\"\n",
        "src_dir = \"code\"\n",
        "pyfile_1 = \"make_topic_model.py\"\n",
        "pyfile_2 = \"create_visualisation.py\"\n",
        "\n",
        "if os.path.isdir(repo):\n",
        "    !rm -rf {repo}\n",
        "    \n",
        "!git clone https://github.com/{user}/{repo}.git\n",
        "\n",
        "path = f\"{repo}/{src_dir}\"\n",
        "if not path in sys.path:\n",
        "    sys.path.insert(1, path)\n",
        "\n",
        "make_topic_model = importlib.import_module(pyfile_1.rstrip(\".py\"))\n",
        "create_visualisation = importlib.import_module(pyfile_2.rstrip(\".py\"))\n",
        "\n",
        "from make_topic_model import *\n",
        "from create_visualisation import *\n",
        "\n",
        "''' Datasets'''\n",
        "\n",
        "!wget -q --show-progress --no-check-certificate 'https://docs.google.com/uc?export=download&id=12ZyryF8MbMYKuhIBEhUUvnvx43_cna56' -O dataset_ValueMonitor_prototype\n",
        "!wget --load-cookies /tmp/cookies.txt \"https://docs.google.com/uc?export=download&confirm=$(wget --quiet --save-cookies /tmp/cookies.txt --keep-session-cookies --no-check-certificate 'https://docs.google.com/uc?export=download&id=12_EoLJLL_wjc8n1Az3wudsvaTgA605aK' -O- | sed -rn 's/.*confirm=([0-9A-Za-z_]+).*/\\1\\n/p')&id=12_EoLJLL_wjc8n1Az3wudsvaTgA605aK\" -O combined_STOA_technologies_saved_topic_model && rm -rf /tmp/cookies.txt\n",
        "\n",
        "with open('dataset_ValueMonitor_prototype', \"rb\") as fh:\n",
        "    df = pickle.load(fh)\n",
        "with open('combined_STOA_technologies_saved_topic_model', \"rb\") as fh:\n",
        "    combined_STOA_technologies_saved_topic_model = pickle.load(fh)\n",
        "    \n",
        "results_import = import_topic_model(combined_STOA_technologies_saved_topic_model, df)\n",
        "if len(results_import):\n",
        "    df_with_topics = results_import[0]\n",
        "    topics = results_import[1]\n",
        "    dict_anchor_words = results_import[2]"
      ]
    },
    {
      "cell_type": "markdown",
      "metadata": {
        "id": "V7CE1e6gJVI3"
      },
      "source": [
        "## 2. Gap assessment <a name=\"gap_assessment\"></a>"
      ]
    },
    {
      "cell_type": "markdown",
      "metadata": {
        "id": "-wUFitdMJVI4"
      },
      "source": [
        "It takes time before a good topic model is build in which topics adequately represent values. The code in the next cell can be used to import an existing topic model."
      ]
    },
    {
      "cell_type": "code",
      "execution_count": null,
      "metadata": {
        "colab": {
          "base_uri": "https://localhost:8080/",
          "height": 321,
          "referenced_widgets": [
            "45fcb2e7066e4837b1b01364158a1696"
          ]
        },
        "id": "O3wzuC5XJVI4",
        "outputId": "ce99f0e2-1110-4f34-9765-fae8dade3311"
      },
      "outputs": [
        {
          "data": {
            "application/vnd.jupyter.widget-view+json": {
              "model_id": "45fcb2e7066e4837b1b01364158a1696",
              "version_major": 2,
              "version_minor": 0
            },
            "text/plain": [
              "interactive(children=(Dropdown(description='Selected_technology', options=('AI', 'IoT'), value='AI'), Output()…"
            ]
          },
          "metadata": {},
          "output_type": "display_data"
        },
        {
          "data": {
            "text/plain": [
              "<function __main__.plot_values_in_different_datasets(Selected_technology)>"
            ]
          },
          "execution_count": 5,
          "metadata": {},
          "output_type": "execute_result"
        }
      ],
      "source": [
        "def plot_values_in_different_datasets(Selected_technology):\n",
        "    values_in_different_datasets(df_with_topics, Selected_technology, dict_anchor_words)\n",
        "\n",
        "interact(plot_values_in_different_datasets, Selected_technology=[\"AI\", \"IoT\"])"
      ]
    },
    {
      "cell_type": "code",
      "execution_count": null,
      "metadata": {
        "id": "ju7CY4TJJVI5",
        "outputId": "048cddef-5034-496c-eb35-0bb117598a9f",
        "scrolled": false,
        "colab": {
          "referenced_widgets": [
            "5e84619e93cc4408abab0f9d214215a1"
          ]
        }
      },
      "outputs": [
        {
          "data": {
            "application/vnd.jupyter.widget-view+json": {
              "model_id": "5e84619e93cc4408abab0f9d214215a1",
              "version_major": 2,
              "version_minor": 0
            },
            "text/plain": [
              "interactive(children=(Dropdown(description='selected_technology', options=('AI', 'IoT'), value='AI'), Dropdown…"
            ]
          },
          "metadata": {},
          "output_type": "display_data"
        },
        {
          "data": {
            "text/plain": [
              "<function __main__.plot_print_sample_articles_topic(selected_technology, selected_value, selected_dataset, size_sample)>"
            ]
          },
          "execution_count": 9,
          "metadata": {},
          "output_type": "execute_result"
        }
      ],
      "source": [
        "def plot_print_sample_articles_topic(selected_technology, selected_value, selected_dataset, size_sample):\n",
        "    show_extracts = True # True, False\n",
        "    show_full_text  = False # True, False\n",
        "    df_with_topics_selected_technology = df_with_topics[df_with_topics[selected_technology] == True]\n",
        "    df_with_topics_selected_technology_dataset = df_with_topics_selected_technology[df_with_topics_selected_technology['dataset'] == selected_dataset]\n",
        "    print_sample_articles_topic(df_with_topics_selected_technology_dataset, dict_anchor_words, topics, selected_value, size_sample, show_extracts, show_full_text)\n",
        "\n",
        "interact(plot_print_sample_articles_topic, selected_value=[*dict_anchor_words], selected_dataset = [\"TECH\", \"NEWS\", \"ETHICS\", ], selected_technology=[\"AI\", \"IoT\"], size_sample =(5,50, 5))"
      ]
    },
    {
      "cell_type": "markdown",
      "metadata": {
        "id": "48dEXzRvJVI5"
      },
      "source": [
        "## 3. Impact assessment <a name=\"impact_assessment\"></a>"
      ]
    },
    {
      "cell_type": "markdown",
      "metadata": {
        "id": "L2ltIgjcJVI5"
      },
      "source": [
        "The occurence of values can be traced over time."
      ]
    },
    {
      "cell_type": "code",
      "execution_count": null,
      "metadata": {
        "id": "xw2-JVY3JVI5",
        "outputId": "7f6ec377-47cc-46c3-c27e-4fcf9e27b840",
        "colab": {
          "referenced_widgets": [
            "17007ae9cea44707881e1dfe72669fd0"
          ]
        }
      },
      "outputs": [
        {
          "data": {
            "application/vnd.jupyter.widget-view+json": {
              "model_id": "17007ae9cea44707881e1dfe72669fd0",
              "version_major": 2,
              "version_minor": 0
            },
            "text/plain": [
              "interactive(children=(Dropdown(description='selected_technology', options=('AI', 'IoT'), value='AI'), Dropdown…"
            ]
          },
          "metadata": {},
          "output_type": "display_data"
        },
        {
          "data": {
            "text/plain": [
              "<function __main__.plot_create_vis_values_over_time(selected_technology, selected_dataset, resampling, smoothing, max_value_y)>"
            ]
          },
          "execution_count": 11,
          "metadata": {},
          "output_type": "execute_result"
        }
      ],
      "source": [
        "def plot_create_vis_values_over_time (selected_technology, selected_dataset, resampling, smoothing, max_value_y):\n",
        "\n",
        "    T0 = \"1980-01-01\" #YYYY-MM-DD\n",
        "    T1 = \"2023-01-01\" #YYYY-MM-DD\n",
        "\n",
        "    values_to_include_in_visualisation = []\n",
        "    \n",
        "    resampling_dict = {\"Year\": \"Y\", \"Month\": \"M\", \"Day\": \"D\"}\n",
        "    resampling = resampling_dict[resampling]\n",
        "    df_with_topics_short = df_with_topics.loc[(df_with_topics['date'] >= dateutil.parser.parse(T0)) & (df_with_topics['date'] <= dateutil.parser.parse(T1))]\n",
        "    df_with_topics_selected_technology = df_with_topics_short[df_with_topics_short[selected_technology] == True]\n",
        "    df_with_topics_selected_technology_dataset = df_with_topics_selected_technology[df_with_topics_selected_technology['dataset'] == selected_dataset]\n",
        "    create_vis_values_over_time(df_with_topics_selected_technology_dataset, dict_anchor_words, resampling, values_to_include_in_visualisation, smoothing, max_value_y)  \n",
        "    \n",
        "    \n",
        "\n",
        "interact(plot_create_vis_values_over_time, selected_technology=[\"AI\", \"IoT\"], selected_dataset = [\"TECH\", \"NEWS\", \"ETHICS\",], smoothing = (0.25,3, 0.25), max_value_y = (5,100, 5), resampling = [\"Year\", \"Month\", \"Day\"])"
      ]
    },
    {
      "cell_type": "code",
      "execution_count": null,
      "metadata": {
        "id": "un9jjnMfJVI6",
        "outputId": "79b71096-31ad-446e-9ad6-1519f1d0bddb",
        "scrolled": false,
        "colab": {
          "referenced_widgets": [
            "3571f048f1f14d379096c9abafffb8b9"
          ]
        }
      },
      "outputs": [
        {
          "data": {
            "application/vnd.jupyter.widget-view+json": {
              "model_id": "3571f048f1f14d379096c9abafffb8b9",
              "version_major": 2,
              "version_minor": 0
            },
            "text/plain": [
              "interactive(children=(Dropdown(description='selected_value', options=('Justice and Fairness', 'Privacy', 'Cybe…"
            ]
          },
          "metadata": {},
          "output_type": "display_data"
        },
        {
          "data": {
            "text/plain": [
              "<function __main__.plot_print_sample_articles_topic(selected_value, size_sample)>"
            ]
          },
          "execution_count": 12,
          "metadata": {},
          "output_type": "execute_result"
        }
      ],
      "source": [
        "def plot_print_sample_articles_topic(selected_value, size_sample):\n",
        "    T0 = \"1960-01-01\" #YYYY-MM-DD\n",
        "    T1 = \"2023-01-01\" #YYYY-MM-DD\n",
        "\n",
        "    show_extracts = True # True, False\n",
        "    show_full_text  = False # True, False\n",
        "\n",
        "    df_with_topics_short = df_with_topics.loc[(df_with_topics['date'] >= dateutil.parser.parse(T0)) & (df_with_topics['date'] <= dateutil.parser.parse(T1))]\n",
        "    print_sample_articles_topic(df_with_topics_short, dict_anchor_words, topics, selected_value, size_sample, show_extracts, show_full_text)\n",
        "\n",
        "interact(plot_print_sample_articles_topic, selected_value=[*dict_anchor_words], size_sample =(5,50, 5))"
      ]
    },
    {
      "cell_type": "markdown",
      "metadata": {
        "id": "1K4bHrQTJVI6"
      },
      "source": [
        "## 4. Values in different realms <a name=\"values_in_different_realms\"></a>"
      ]
    },
    {
      "cell_type": "markdown",
      "metadata": {
        "id": "qZCjKIH4JVI6"
      },
      "source": [
        "ValueMonitor can be used to evaluate which values different societal groups tend to discuss."
      ]
    },
    {
      "cell_type": "code",
      "execution_count": null,
      "metadata": {
        "id": "EBH_2x1VJVI6",
        "outputId": "3842434e-abac-401a-94f5-589a1186dcd2",
        "colab": {
          "referenced_widgets": [
            "b2fe0a760861499f9af18024aadd66e7"
          ]
        }
      },
      "outputs": [
        {
          "data": {
            "application/vnd.jupyter.widget-view+json": {
              "model_id": "b2fe0a760861499f9af18024aadd66e7",
              "version_major": 2,
              "version_minor": 0
            },
            "text/plain": [
              "interactive(children=(Dropdown(description='selected_dataset', options=('NEWS', 'ETHICS', 'TECH'), value='NEWS…"
            ]
          },
          "metadata": {},
          "output_type": "display_data"
        },
        {
          "data": {
            "text/plain": [
              "<function __main__.plot_values_in_different_groups(selected_dataset)>"
            ]
          },
          "execution_count": 13,
          "metadata": {},
          "output_type": "execute_result"
        }
      ],
      "source": [
        "def plot_values_in_different_groups(selected_dataset):\n",
        "    values_in_different_groups(df_with_topics, dict_anchor_words, selected_dataset)\n",
        "\n",
        "interact(plot_values_in_different_groups, selected_dataset = ['NEWS', 'ETHICS', 'TECH'])"
      ]
    },
    {
      "cell_type": "code",
      "execution_count": null,
      "metadata": {
        "id": "h5KWjsasJVI7",
        "outputId": "a8450a05-6a02-4a8d-9dfe-0b3e04905819",
        "scrolled": false,
        "colab": {
          "referenced_widgets": [
            "452c56ef628c4234b198058ad631bd6c"
          ]
        }
      },
      "outputs": [
        {
          "data": {
            "application/vnd.jupyter.widget-view+json": {
              "model_id": "452c56ef628c4234b198058ad631bd6c",
              "version_major": 2,
              "version_minor": 0
            },
            "text/plain": [
              "interactive(children=(Dropdown(description='selected_value', options=('Justice and Fairness', 'Privacy', 'Cybe…"
            ]
          },
          "metadata": {},
          "output_type": "display_data"
        },
        {
          "data": {
            "text/plain": [
              "<function __main__.plot_print_sample_articles_topic(selected_value, selected_dataset, size_sample)>"
            ]
          },
          "execution_count": 14,
          "metadata": {},
          "output_type": "execute_result"
        }
      ],
      "source": [
        "def plot_print_sample_articles_topic(selected_value, selected_dataset, size_sample):\n",
        "\n",
        "    show_extracts = True # True, False\n",
        "    show_full_text  = False # True, False\n",
        "\n",
        "    '''--------------------------------------------------------------------------''' \n",
        "\n",
        "    df_with_topics_selected_technology_dataset = df_with_topics[df_with_topics['dataset'] == selected_dataset]\n",
        "    print_sample_articles_topic(df_with_topics_selected_technology_dataset, dict_anchor_words, topics, selected_value, size_sample, show_extracts, show_full_text)\n",
        "interact(plot_print_sample_articles_topic, selected_value=[*dict_anchor_words], selected_dataset = [\"TECH\", \"NEWS\", \"ETHICS\", ], size_sample =(5,50, 5))"
      ]
    },
    {
      "cell_type": "code",
      "execution_count": null,
      "metadata": {
        "id": "IAVpf9qXJVI7"
      },
      "outputs": [],
      "source": []
    }
  ],
  "metadata": {
    "colab": {
      "collapsed_sections": [
        "BNW2-FjTSaaB",
        "iS91FXNNSmOC",
        "813ejCyOE0iT",
        "EqtK4E3CSnIS",
        "2LlfMeZE7qnp",
        "mgcmijrjXKyh",
        "DbubP0kCVxRf",
        "XZKsT5NR8_xj",
        "qO6wh9EIKu5R",
        "6OuCocWjtKF7",
        "NMD3L0CbQvnt",
        "KUhDIihrA5Tf",
        "n64SVa7SAxDZ",
        "WKtNRP-jBJaI",
        "naoD2x4BBSoI",
        "3m0at_38BNiY",
        "CbX0jG7iBx3f",
        "BDz_NMSQCPkf",
        "4w9uP65Iseb3",
        "a8OYxqoe3xxd",
        "Xx3ok56aJnEM",
        "5F9qr9s72Byr",
        "2A_zQPsW5m_R",
        "cWpwgZcTrIEC"
      ],
      "name": "Topic_modelling_for_value_change.ipynb",
      "provenance": []
    },
    "kernelspec": {
      "display_name": "Python 3",
      "language": "python",
      "name": "python3"
    },
    "language_info": {
      "codemirror_mode": {
        "name": "ipython",
        "version": 3
      },
      "file_extension": ".py",
      "mimetype": "text/x-python",
      "name": "python",
      "nbconvert_exporter": "python",
      "pygments_lexer": "ipython3",
      "version": "3.8.8"
    }
  },
  "nbformat": 4,
  "nbformat_minor": 0
}